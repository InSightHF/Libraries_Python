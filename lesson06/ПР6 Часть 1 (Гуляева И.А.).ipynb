{
 "cells": [
  {
   "cell_type": "markdown",
   "id": "6fddf9f3",
   "metadata": {},
   "source": [
    "\n",
    "# Тема “Обучение с учителем”\n",
    "\n",
    "## Задание 1\n",
    "\n",
    "Импортируйте библиотеки **pandas** и **numpy**. Загрузите **\"Boston House Prices dataset\"** из встроенных наборов данных библиотеки **sklearn**. Создайте датафреймы _**X**_ и _**y**_ из этих данных. Разбейте эти датафреймы на тренировочные (_**X_train, y_train**_) и тестовые (_**X_test, y_test**_) с помощью функции **train_test_split** так, чтобы размер тестовой выборки составлял 30% от всех данных, при этом аргумент **random_state** должен быть равен 42. Создайте модель линейной регрессии под названием _**lr**_ с помощью класса **LinearRegression** из модуля **sklearn.linear_model**. Обучите модель на тренировочных данных (используйте все признаки) и сделайте предсказание на тестовых. Вычислите _**R^2**_ полученных предказаний с помощью **r2_score** из модуля **sklearn.metrics**.\n"
   ]
  },
  {
   "cell_type": "code",
   "execution_count": 1,
   "id": "7d31fb41",
   "metadata": {},
   "outputs": [],
   "source": [
    "# Проигнорируем предупреждения Анаконды3:\n",
    "import warnings\n",
    "warnings.filterwarnings('ignore')"
   ]
  },
  {
   "cell_type": "code",
   "execution_count": 2,
   "id": "7545339f",
   "metadata": {},
   "outputs": [],
   "source": [
    "# Загрузим библиотеки и данные:\n",
    "import numpy as np\n",
    "import pandas as pd\n",
    "from sklearn.datasets import load_boston"
   ]
  },
  {
   "cell_type": "code",
   "execution_count": 3,
   "id": "a1bb21c9",
   "metadata": {},
   "outputs": [
    {
     "name": "stdout",
     "output_type": "stream",
     "text": [
      "<class 'sklearn.utils.Bunch'>\n"
     ]
    }
   ],
   "source": [
    "# Поместим данные в переменную boston и определим тип данных:\n",
    "boston = load_boston()\n",
    "print(type(boston))"
   ]
  },
  {
   "cell_type": "code",
   "execution_count": 4,
   "id": "53e10e03",
   "metadata": {},
   "outputs": [
    {
     "name": "stdout",
     "output_type": "stream",
     "text": [
      "dict_keys(['data', 'target', 'feature_names', 'DESCR', 'filename', 'data_module'])\n"
     ]
    }
   ],
   "source": [
    "# Набор данных является объектом Bunch, который представляет собой подкласс словаря,\n",
    "# посмотрим на его ключи:\n",
    "print(boston.keys())"
   ]
  },
  {
   "cell_type": "markdown",
   "id": "1189899b",
   "metadata": {},
   "source": [
    "В разделе **data** содержится информация о признаках (независиммые переменные), т.е. данные о недвижимости; в разделе **target** содержится целевая (зависимая) переменная, т.е. цены на недвижимость; в разделе **feature_names** - наименование признаков; а раздел **DESCR** содержит описание датасета."
   ]
  },
  {
   "cell_type": "code",
   "execution_count": 5,
   "id": "8a84b27a",
   "metadata": {},
   "outputs": [
    {
     "name": "stdout",
     "output_type": "stream",
     "text": [
      ".. _boston_dataset:\n",
      "\n",
      "Boston house prices dataset\n",
      "---------------------------\n",
      "\n",
      "**Data Set Characteristics:**  \n",
      "\n",
      "    :Number of Instances: 506 \n",
      "\n",
      "    :Number of Attributes: 13 numeric/categorical predictive. Median Value (attribute 14) is usually the target.\n",
      "\n",
      "    :Attribute Information (in order):\n",
      "        - CRIM     per capita crime rate by town\n",
      "        - ZN       proportion of residential land zoned for lots over 25,000 sq.ft.\n",
      "        - INDUS    proportion of non-retail business acres per town\n",
      "        - CHAS     Charles River dummy variable (= 1 if tract bounds river; 0 otherwise)\n",
      "        - NOX      nitric oxides concentration (parts per 10 million)\n",
      "        - RM       average number of rooms per dwelling\n",
      "        - AGE      proportion of owner-occupied units built prior to 1940\n",
      "        - DIS      weighted distances to five Boston employment centres\n",
      "        - RAD      index of accessibility to radial highways\n",
      "        - TAX      full-value property-tax rate per $10,000\n",
      "        - PTRATIO  pupil-teacher ratio by town\n",
      "        - B        1000(Bk - 0.63)^2 where Bk is the proportion of black people by town\n",
      "        - LSTAT    % lower status of the population\n",
      "        - MEDV     Median value of owner-occupied homes in $1000's\n",
      "\n",
      "    :Missing Attribute Values: None\n",
      "\n",
      "    :Creator: Harrison, D. and Rubinfeld, D.L.\n",
      "\n",
      "This is a copy of UCI ML housing dataset.\n",
      "https://archive.ics.uci.edu/ml/machine-learning-databases/housing/\n",
      "\n",
      "\n",
      "This dataset was taken from the StatLib library which is maintained at Carnegie Mellon University.\n",
      "\n",
      "The Boston house-price data of Harrison, D. and Rubinfeld, D.L. 'Hedonic\n",
      "prices and the demand for clean air', J. Environ. Economics & Management,\n",
      "vol.5, 81-102, 1978.   Used in Belsley, Kuh & Welsch, 'Regression diagnostics\n",
      "...', Wiley, 1980.   N.B. Various transformations are used in the table on\n",
      "pages 244-261 of the latter.\n",
      "\n",
      "The Boston house-price data has been used in many machine learning papers that address regression\n",
      "problems.   \n",
      "     \n",
      ".. topic:: References\n",
      "\n",
      "   - Belsley, Kuh & Welsch, 'Regression diagnostics: Identifying Influential Data and Sources of Collinearity', Wiley, 1980. 244-261.\n",
      "   - Quinlan,R. (1993). Combining Instance-Based and Model-Based Learning. In Proceedings on the Tenth International Conference of Machine Learning, 236-243, University of Massachusetts, Amherst. Morgan Kaufmann.\n",
      "\n"
     ]
    }
   ],
   "source": [
    "# Посмотрим для начала описание:\n",
    "print(boston['DESCR'])"
   ]
  },
  {
   "cell_type": "code",
   "execution_count": 6,
   "id": "a6c9461d",
   "metadata": {},
   "outputs": [
    {
     "name": "stdout",
     "output_type": "stream",
     "text": [
      "Тип массива data: float64\n",
      "Форма  массива data: (506, 13)\n",
      "Размерность массива data: 2\n",
      "Количество элементов массива data: 6578\n"
     ]
    }
   ],
   "source": [
    "# Посмотрим на характеристики массива данных о недвижимости по ключу \"data\":\n",
    "data = boston['data']\n",
    "print('Тип массива data:', data.dtype)\n",
    "print('Форма  массива data:', data.shape)\n",
    "print('Размерность массива data:', data.ndim)\n",
    "print('Количество элементов массива data:', data.size)"
   ]
  },
  {
   "cell_type": "code",
   "execution_count": 7,
   "id": "f62fb2c7",
   "metadata": {},
   "outputs": [
    {
     "name": "stdout",
     "output_type": "stream",
     "text": [
      "Тип массива target: float64\n",
      "Форма массива target: (506,)\n",
      "Размерность массива target: 1\n",
      "Количество элементов массива target: 506\n"
     ]
    }
   ],
   "source": [
    "# Посмотрим на характеристики массива с целевыми значениями (ценами на недвижимость) \n",
    "# по ключу \"target\":\n",
    "target = boston['target']\n",
    "print('Тип массива target:', target.dtype)\n",
    "print('Форма массива target:', target.shape)\n",
    "print('Размерность массива target:', target.ndim)\n",
    "print('Количество элементов массива target:', target.size)"
   ]
  },
  {
   "cell_type": "code",
   "execution_count": 8,
   "id": "3ad87118",
   "metadata": {},
   "outputs": [
    {
     "name": "stdout",
     "output_type": "stream",
     "text": [
      "Признаки:\n",
      " ['CRIM' 'ZN' 'INDUS' 'CHAS' 'NOX' 'RM' 'AGE' 'DIS' 'RAD' 'TAX' 'PTRATIO'\n",
      " 'B' 'LSTAT']\n",
      "Количество элементов feature_names: 13\n"
     ]
    }
   ],
   "source": [
    "# Посмотрим на названия признаков по ключу \"feature_names\":\n",
    "feature_names = boston['feature_names']\n",
    "print('Признаки:\\n', feature_names)\n",
    "print('Количество элементов feature_names:', feature_names.size)"
   ]
  },
  {
   "cell_type": "code",
   "execution_count": 9,
   "id": "eafb6695",
   "metadata": {},
   "outputs": [
    {
     "data": {
      "text/html": [
       "<div>\n",
       "<style scoped>\n",
       "    .dataframe tbody tr th:only-of-type {\n",
       "        vertical-align: middle;\n",
       "    }\n",
       "\n",
       "    .dataframe tbody tr th {\n",
       "        vertical-align: top;\n",
       "    }\n",
       "\n",
       "    .dataframe thead th {\n",
       "        text-align: right;\n",
       "    }\n",
       "</style>\n",
       "<table border=\"1\" class=\"dataframe\">\n",
       "  <thead>\n",
       "    <tr style=\"text-align: right;\">\n",
       "      <th></th>\n",
       "      <th>CRIM</th>\n",
       "      <th>ZN</th>\n",
       "      <th>INDUS</th>\n",
       "      <th>CHAS</th>\n",
       "      <th>NOX</th>\n",
       "      <th>RM</th>\n",
       "      <th>AGE</th>\n",
       "      <th>DIS</th>\n",
       "      <th>RAD</th>\n",
       "      <th>TAX</th>\n",
       "      <th>PTRATIO</th>\n",
       "      <th>B</th>\n",
       "      <th>LSTAT</th>\n",
       "    </tr>\n",
       "  </thead>\n",
       "  <tbody>\n",
       "    <tr>\n",
       "      <th>0</th>\n",
       "      <td>0.00632</td>\n",
       "      <td>18.0</td>\n",
       "      <td>2.31</td>\n",
       "      <td>0.0</td>\n",
       "      <td>0.538</td>\n",
       "      <td>6.575</td>\n",
       "      <td>65.2</td>\n",
       "      <td>4.0900</td>\n",
       "      <td>1.0</td>\n",
       "      <td>296.0</td>\n",
       "      <td>15.3</td>\n",
       "      <td>396.90</td>\n",
       "      <td>4.98</td>\n",
       "    </tr>\n",
       "    <tr>\n",
       "      <th>1</th>\n",
       "      <td>0.02731</td>\n",
       "      <td>0.0</td>\n",
       "      <td>7.07</td>\n",
       "      <td>0.0</td>\n",
       "      <td>0.469</td>\n",
       "      <td>6.421</td>\n",
       "      <td>78.9</td>\n",
       "      <td>4.9671</td>\n",
       "      <td>2.0</td>\n",
       "      <td>242.0</td>\n",
       "      <td>17.8</td>\n",
       "      <td>396.90</td>\n",
       "      <td>9.14</td>\n",
       "    </tr>\n",
       "    <tr>\n",
       "      <th>2</th>\n",
       "      <td>0.02729</td>\n",
       "      <td>0.0</td>\n",
       "      <td>7.07</td>\n",
       "      <td>0.0</td>\n",
       "      <td>0.469</td>\n",
       "      <td>7.185</td>\n",
       "      <td>61.1</td>\n",
       "      <td>4.9671</td>\n",
       "      <td>2.0</td>\n",
       "      <td>242.0</td>\n",
       "      <td>17.8</td>\n",
       "      <td>392.83</td>\n",
       "      <td>4.03</td>\n",
       "    </tr>\n",
       "    <tr>\n",
       "      <th>3</th>\n",
       "      <td>0.03237</td>\n",
       "      <td>0.0</td>\n",
       "      <td>2.18</td>\n",
       "      <td>0.0</td>\n",
       "      <td>0.458</td>\n",
       "      <td>6.998</td>\n",
       "      <td>45.8</td>\n",
       "      <td>6.0622</td>\n",
       "      <td>3.0</td>\n",
       "      <td>222.0</td>\n",
       "      <td>18.7</td>\n",
       "      <td>394.63</td>\n",
       "      <td>2.94</td>\n",
       "    </tr>\n",
       "    <tr>\n",
       "      <th>4</th>\n",
       "      <td>0.06905</td>\n",
       "      <td>0.0</td>\n",
       "      <td>2.18</td>\n",
       "      <td>0.0</td>\n",
       "      <td>0.458</td>\n",
       "      <td>7.147</td>\n",
       "      <td>54.2</td>\n",
       "      <td>6.0622</td>\n",
       "      <td>3.0</td>\n",
       "      <td>222.0</td>\n",
       "      <td>18.7</td>\n",
       "      <td>396.90</td>\n",
       "      <td>5.33</td>\n",
       "    </tr>\n",
       "    <tr>\n",
       "      <th>5</th>\n",
       "      <td>0.02985</td>\n",
       "      <td>0.0</td>\n",
       "      <td>2.18</td>\n",
       "      <td>0.0</td>\n",
       "      <td>0.458</td>\n",
       "      <td>6.430</td>\n",
       "      <td>58.7</td>\n",
       "      <td>6.0622</td>\n",
       "      <td>3.0</td>\n",
       "      <td>222.0</td>\n",
       "      <td>18.7</td>\n",
       "      <td>394.12</td>\n",
       "      <td>5.21</td>\n",
       "    </tr>\n",
       "    <tr>\n",
       "      <th>6</th>\n",
       "      <td>0.08829</td>\n",
       "      <td>12.5</td>\n",
       "      <td>7.87</td>\n",
       "      <td>0.0</td>\n",
       "      <td>0.524</td>\n",
       "      <td>6.012</td>\n",
       "      <td>66.6</td>\n",
       "      <td>5.5605</td>\n",
       "      <td>5.0</td>\n",
       "      <td>311.0</td>\n",
       "      <td>15.2</td>\n",
       "      <td>395.60</td>\n",
       "      <td>12.43</td>\n",
       "    </tr>\n",
       "    <tr>\n",
       "      <th>7</th>\n",
       "      <td>0.14455</td>\n",
       "      <td>12.5</td>\n",
       "      <td>7.87</td>\n",
       "      <td>0.0</td>\n",
       "      <td>0.524</td>\n",
       "      <td>6.172</td>\n",
       "      <td>96.1</td>\n",
       "      <td>5.9505</td>\n",
       "      <td>5.0</td>\n",
       "      <td>311.0</td>\n",
       "      <td>15.2</td>\n",
       "      <td>396.90</td>\n",
       "      <td>19.15</td>\n",
       "    </tr>\n",
       "    <tr>\n",
       "      <th>8</th>\n",
       "      <td>0.21124</td>\n",
       "      <td>12.5</td>\n",
       "      <td>7.87</td>\n",
       "      <td>0.0</td>\n",
       "      <td>0.524</td>\n",
       "      <td>5.631</td>\n",
       "      <td>100.0</td>\n",
       "      <td>6.0821</td>\n",
       "      <td>5.0</td>\n",
       "      <td>311.0</td>\n",
       "      <td>15.2</td>\n",
       "      <td>386.63</td>\n",
       "      <td>29.93</td>\n",
       "    </tr>\n",
       "    <tr>\n",
       "      <th>9</th>\n",
       "      <td>0.17004</td>\n",
       "      <td>12.5</td>\n",
       "      <td>7.87</td>\n",
       "      <td>0.0</td>\n",
       "      <td>0.524</td>\n",
       "      <td>6.004</td>\n",
       "      <td>85.9</td>\n",
       "      <td>6.5921</td>\n",
       "      <td>5.0</td>\n",
       "      <td>311.0</td>\n",
       "      <td>15.2</td>\n",
       "      <td>386.71</td>\n",
       "      <td>17.10</td>\n",
       "    </tr>\n",
       "  </tbody>\n",
       "</table>\n",
       "</div>"
      ],
      "text/plain": [
       "      CRIM    ZN  INDUS  CHAS    NOX     RM    AGE     DIS  RAD    TAX  \\\n",
       "0  0.00632  18.0   2.31   0.0  0.538  6.575   65.2  4.0900  1.0  296.0   \n",
       "1  0.02731   0.0   7.07   0.0  0.469  6.421   78.9  4.9671  2.0  242.0   \n",
       "2  0.02729   0.0   7.07   0.0  0.469  7.185   61.1  4.9671  2.0  242.0   \n",
       "3  0.03237   0.0   2.18   0.0  0.458  6.998   45.8  6.0622  3.0  222.0   \n",
       "4  0.06905   0.0   2.18   0.0  0.458  7.147   54.2  6.0622  3.0  222.0   \n",
       "5  0.02985   0.0   2.18   0.0  0.458  6.430   58.7  6.0622  3.0  222.0   \n",
       "6  0.08829  12.5   7.87   0.0  0.524  6.012   66.6  5.5605  5.0  311.0   \n",
       "7  0.14455  12.5   7.87   0.0  0.524  6.172   96.1  5.9505  5.0  311.0   \n",
       "8  0.21124  12.5   7.87   0.0  0.524  5.631  100.0  6.0821  5.0  311.0   \n",
       "9  0.17004  12.5   7.87   0.0  0.524  6.004   85.9  6.5921  5.0  311.0   \n",
       "\n",
       "   PTRATIO       B  LSTAT  \n",
       "0     15.3  396.90   4.98  \n",
       "1     17.8  396.90   9.14  \n",
       "2     17.8  392.83   4.03  \n",
       "3     18.7  394.63   2.94  \n",
       "4     18.7  396.90   5.33  \n",
       "5     18.7  394.12   5.21  \n",
       "6     15.2  395.60  12.43  \n",
       "7     15.2  396.90  19.15  \n",
       "8     15.2  386.63  29.93  \n",
       "9     15.2  386.71  17.10  "
      ]
     },
     "execution_count": 9,
     "metadata": {},
     "output_type": "execute_result"
    }
   ],
   "source": [
    "# Преобразуем исходные данные в DataFrame и посмотрим на них:\n",
    "X = pd.DataFrame(boston['data'], columns = boston['feature_names'])\n",
    "X.head(10)"
   ]
  },
  {
   "cell_type": "code",
   "execution_count": 10,
   "id": "631d271d",
   "metadata": {},
   "outputs": [
    {
     "name": "stdout",
     "output_type": "stream",
     "text": [
      "<class 'pandas.core.frame.DataFrame'>\n",
      "RangeIndex: 506 entries, 0 to 505\n",
      "Data columns (total 13 columns):\n",
      " #   Column   Non-Null Count  Dtype  \n",
      "---  ------   --------------  -----  \n",
      " 0   CRIM     506 non-null    float64\n",
      " 1   ZN       506 non-null    float64\n",
      " 2   INDUS    506 non-null    float64\n",
      " 3   CHAS     506 non-null    float64\n",
      " 4   NOX      506 non-null    float64\n",
      " 5   RM       506 non-null    float64\n",
      " 6   AGE      506 non-null    float64\n",
      " 7   DIS      506 non-null    float64\n",
      " 8   RAD      506 non-null    float64\n",
      " 9   TAX      506 non-null    float64\n",
      " 10  PTRATIO  506 non-null    float64\n",
      " 11  B        506 non-null    float64\n",
      " 12  LSTAT    506 non-null    float64\n",
      "dtypes: float64(13)\n",
      "memory usage: 51.5 KB\n"
     ]
    }
   ],
   "source": [
    "# Посмотрим информацию о переменных DataFrame, и убедимся,\n",
    "# что все они являются количественными, а также не имеют пропусков:\n",
    "X.info()"
   ]
  },
  {
   "cell_type": "code",
   "execution_count": 11,
   "id": "21ff3cd4",
   "metadata": {},
   "outputs": [
    {
     "data": {
      "text/html": [
       "<div>\n",
       "<style scoped>\n",
       "    .dataframe tbody tr th:only-of-type {\n",
       "        vertical-align: middle;\n",
       "    }\n",
       "\n",
       "    .dataframe tbody tr th {\n",
       "        vertical-align: top;\n",
       "    }\n",
       "\n",
       "    .dataframe thead th {\n",
       "        text-align: right;\n",
       "    }\n",
       "</style>\n",
       "<table border=\"1\" class=\"dataframe\">\n",
       "  <thead>\n",
       "    <tr style=\"text-align: right;\">\n",
       "      <th></th>\n",
       "      <th>MEDV</th>\n",
       "    </tr>\n",
       "  </thead>\n",
       "  <tbody>\n",
       "    <tr>\n",
       "      <th>0</th>\n",
       "      <td>24.0</td>\n",
       "    </tr>\n",
       "    <tr>\n",
       "      <th>1</th>\n",
       "      <td>21.6</td>\n",
       "    </tr>\n",
       "    <tr>\n",
       "      <th>2</th>\n",
       "      <td>34.7</td>\n",
       "    </tr>\n",
       "    <tr>\n",
       "      <th>3</th>\n",
       "      <td>33.4</td>\n",
       "    </tr>\n",
       "    <tr>\n",
       "      <th>4</th>\n",
       "      <td>36.2</td>\n",
       "    </tr>\n",
       "    <tr>\n",
       "      <th>5</th>\n",
       "      <td>28.7</td>\n",
       "    </tr>\n",
       "    <tr>\n",
       "      <th>6</th>\n",
       "      <td>22.9</td>\n",
       "    </tr>\n",
       "    <tr>\n",
       "      <th>7</th>\n",
       "      <td>27.1</td>\n",
       "    </tr>\n",
       "    <tr>\n",
       "      <th>8</th>\n",
       "      <td>16.5</td>\n",
       "    </tr>\n",
       "    <tr>\n",
       "      <th>9</th>\n",
       "      <td>18.9</td>\n",
       "    </tr>\n",
       "  </tbody>\n",
       "</table>\n",
       "</div>"
      ],
      "text/plain": [
       "   MEDV\n",
       "0  24.0\n",
       "1  21.6\n",
       "2  34.7\n",
       "3  33.4\n",
       "4  36.2\n",
       "5  28.7\n",
       "6  22.9\n",
       "7  27.1\n",
       "8  16.5\n",
       "9  18.9"
      ]
     },
     "execution_count": 11,
     "metadata": {},
     "output_type": "execute_result"
    }
   ],
   "source": [
    "# Создадим DataFrame из целевой переменной (в нашем случае - цены на недвижимость),\n",
    "# и посмотрим на него:\n",
    "y = pd.DataFrame(boston['target'], columns = ['MEDV'])\n",
    "y.head(10)"
   ]
  },
  {
   "cell_type": "code",
   "execution_count": 12,
   "id": "096e0298",
   "metadata": {},
   "outputs": [
    {
     "name": "stdout",
     "output_type": "stream",
     "text": [
      "<class 'pandas.core.frame.DataFrame'>\n",
      "RangeIndex: 506 entries, 0 to 505\n",
      "Data columns (total 1 columns):\n",
      " #   Column  Non-Null Count  Dtype  \n",
      "---  ------  --------------  -----  \n",
      " 0   MEDV    506 non-null    float64\n",
      "dtypes: float64(1)\n",
      "memory usage: 4.1 KB\n"
     ]
    }
   ],
   "source": [
    "# Ещё раз посмотрим информацию о целевой переменной:\n",
    "y.info()"
   ]
  },
  {
   "cell_type": "code",
   "execution_count": 13,
   "id": "00a25795",
   "metadata": {},
   "outputs": [],
   "source": [
    "# Для разбиения данных X и y на тренировочные и тестовые выборки\n",
    "# для дальнейшего обучения модели, импортируем соответствующую функцию:\n",
    "from sklearn.model_selection import train_test_split\n",
    "\n",
    "# Разобъём два DataFrame X и y на тренировочные и тестовые выборки,\n",
    "# где на долю тестовых выборок приходится по 30%:\n",
    "X_train, X_test, y_train, y_test = train_test_split(X, y, test_size = 0.3, random_state = 42)"
   ]
  },
  {
   "cell_type": "code",
   "execution_count": 14,
   "id": "be805501",
   "metadata": {},
   "outputs": [
    {
     "name": "stdout",
     "output_type": "stream",
     "text": [
      "Формы тренировочных выборок: (354, 13) (354, 1)\n",
      "Формы тестовых выборок: (152, 13) (152, 1)\n"
     ]
    }
   ],
   "source": [
    "# Посмотрим на формы новых наборов данных:\n",
    "print('Формы тренировочных выборок:', X_train.shape, y_train.shape)\n",
    "print('Формы тестовых выборок:', X_test.shape, y_test.shape)"
   ]
  },
  {
   "cell_type": "code",
   "execution_count": 15,
   "id": "e6fc7d64",
   "metadata": {},
   "outputs": [],
   "source": [
    "# Для создания модели импортируем класс линейной регрессии (наименьших квадратов):\n",
    "from sklearn.linear_model import LinearRegression\n",
    "\n",
    "# Создадим объект этого класса и запишем в переменную lr:\n",
    "lr = LinearRegression()"
   ]
  },
  {
   "cell_type": "code",
   "execution_count": 16,
   "id": "e4c60599",
   "metadata": {},
   "outputs": [
    {
     "data": {
      "text/plain": [
       "LinearRegression()"
      ]
     },
     "execution_count": 16,
     "metadata": {},
     "output_type": "execute_result"
    }
   ],
   "source": [
    "# Обучим нашу модель на тренировочных выборках:\n",
    "lr.fit(X_train, y_train)"
   ]
  },
  {
   "cell_type": "code",
   "execution_count": 17,
   "id": "a26e3edb",
   "metadata": {},
   "outputs": [
    {
     "name": "stdout",
     "output_type": "stream",
     "text": [
      "Форма выборки предсказаний: (152, 1)\n",
      "Размерность выборки предсказаний: 2\n"
     ]
    }
   ],
   "source": [
    "# На основе независимых тестовых переменных (X) предскажем цену на жильё:\n",
    "y_pred = lr.predict(X_test)\n",
    "print('Форма выборки предсказаний:', y_pred.shape)\n",
    "print('Размерность выборки предсказаний:', y_pred.ndim)"
   ]
  },
  {
   "cell_type": "code",
   "execution_count": 18,
   "id": "d5cf0dc4",
   "metadata": {},
   "outputs": [
    {
     "data": {
      "text/html": [
       "<div>\n",
       "<style scoped>\n",
       "    .dataframe tbody tr th:only-of-type {\n",
       "        vertical-align: middle;\n",
       "    }\n",
       "\n",
       "    .dataframe tbody tr th {\n",
       "        vertical-align: top;\n",
       "    }\n",
       "\n",
       "    .dataframe thead th {\n",
       "        text-align: right;\n",
       "    }\n",
       "</style>\n",
       "<table border=\"1\" class=\"dataframe\">\n",
       "  <thead>\n",
       "    <tr style=\"text-align: right;\">\n",
       "      <th></th>\n",
       "      <th>y_test</th>\n",
       "      <th>y_pred</th>\n",
       "    </tr>\n",
       "  </thead>\n",
       "  <tbody>\n",
       "    <tr>\n",
       "      <th>173</th>\n",
       "      <td>23.6</td>\n",
       "      <td>28.6</td>\n",
       "    </tr>\n",
       "    <tr>\n",
       "      <th>274</th>\n",
       "      <td>32.4</td>\n",
       "      <td>36.5</td>\n",
       "    </tr>\n",
       "    <tr>\n",
       "      <th>491</th>\n",
       "      <td>13.6</td>\n",
       "      <td>15.4</td>\n",
       "    </tr>\n",
       "    <tr>\n",
       "      <th>72</th>\n",
       "      <td>22.8</td>\n",
       "      <td>25.4</td>\n",
       "    </tr>\n",
       "    <tr>\n",
       "      <th>452</th>\n",
       "      <td>16.1</td>\n",
       "      <td>18.9</td>\n",
       "    </tr>\n",
       "    <tr>\n",
       "      <th>76</th>\n",
       "      <td>20.0</td>\n",
       "      <td>23.1</td>\n",
       "    </tr>\n",
       "    <tr>\n",
       "      <th>316</th>\n",
       "      <td>17.8</td>\n",
       "      <td>17.4</td>\n",
       "    </tr>\n",
       "    <tr>\n",
       "      <th>140</th>\n",
       "      <td>14.0</td>\n",
       "      <td>14.1</td>\n",
       "    </tr>\n",
       "    <tr>\n",
       "      <th>471</th>\n",
       "      <td>19.6</td>\n",
       "      <td>23.0</td>\n",
       "    </tr>\n",
       "    <tr>\n",
       "      <th>500</th>\n",
       "      <td>16.8</td>\n",
       "      <td>20.6</td>\n",
       "    </tr>\n",
       "  </tbody>\n",
       "</table>\n",
       "</div>"
      ],
      "text/plain": [
       "     y_test  y_pred\n",
       "173    23.6    28.6\n",
       "274    32.4    36.5\n",
       "491    13.6    15.4\n",
       "72     22.8    25.4\n",
       "452    16.1    18.9\n",
       "76     20.0    23.1\n",
       "316    17.8    17.4\n",
       "140    14.0    14.1\n",
       "471    19.6    23.0\n",
       "500    16.8    20.6"
      ]
     },
     "execution_count": 18,
     "metadata": {},
     "output_type": "execute_result"
    }
   ],
   "source": [
    "# Создадим таблицу DataFrame чтобы сопоставить реальные значения с предсказанными. \n",
    "# Поскольку массив y_pred является двумерным, переведём его в одномерный, используя метод .flatten.\n",
    "check_test = pd.DataFrame({'y_test': y_test['MEDV'], 'y_pred': y_pred.flatten()})\n",
    "check_test.head(10).round(1)"
   ]
  },
  {
   "cell_type": "code",
   "execution_count": 19,
   "id": "3ab60221",
   "metadata": {},
   "outputs": [
    {
     "data": {
      "text/html": [
       "<div>\n",
       "<style scoped>\n",
       "    .dataframe tbody tr th:only-of-type {\n",
       "        vertical-align: middle;\n",
       "    }\n",
       "\n",
       "    .dataframe tbody tr th {\n",
       "        vertical-align: top;\n",
       "    }\n",
       "\n",
       "    .dataframe thead th {\n",
       "        text-align: right;\n",
       "    }\n",
       "</style>\n",
       "<table border=\"1\" class=\"dataframe\">\n",
       "  <thead>\n",
       "    <tr style=\"text-align: right;\">\n",
       "      <th></th>\n",
       "      <th>y_test</th>\n",
       "      <th>y_pred</th>\n",
       "      <th>y_difference</th>\n",
       "    </tr>\n",
       "  </thead>\n",
       "  <tbody>\n",
       "    <tr>\n",
       "      <th>173</th>\n",
       "      <td>23.6</td>\n",
       "      <td>28.6</td>\n",
       "      <td>5.0</td>\n",
       "    </tr>\n",
       "    <tr>\n",
       "      <th>274</th>\n",
       "      <td>32.4</td>\n",
       "      <td>36.5</td>\n",
       "      <td>4.1</td>\n",
       "    </tr>\n",
       "    <tr>\n",
       "      <th>491</th>\n",
       "      <td>13.6</td>\n",
       "      <td>15.4</td>\n",
       "      <td>1.8</td>\n",
       "    </tr>\n",
       "    <tr>\n",
       "      <th>72</th>\n",
       "      <td>22.8</td>\n",
       "      <td>25.4</td>\n",
       "      <td>2.6</td>\n",
       "    </tr>\n",
       "    <tr>\n",
       "      <th>452</th>\n",
       "      <td>16.1</td>\n",
       "      <td>18.9</td>\n",
       "      <td>2.8</td>\n",
       "    </tr>\n",
       "    <tr>\n",
       "      <th>76</th>\n",
       "      <td>20.0</td>\n",
       "      <td>23.1</td>\n",
       "      <td>3.1</td>\n",
       "    </tr>\n",
       "    <tr>\n",
       "      <th>316</th>\n",
       "      <td>17.8</td>\n",
       "      <td>17.4</td>\n",
       "      <td>-0.4</td>\n",
       "    </tr>\n",
       "    <tr>\n",
       "      <th>140</th>\n",
       "      <td>14.0</td>\n",
       "      <td>14.1</td>\n",
       "      <td>0.1</td>\n",
       "    </tr>\n",
       "    <tr>\n",
       "      <th>471</th>\n",
       "      <td>19.6</td>\n",
       "      <td>23.0</td>\n",
       "      <td>3.4</td>\n",
       "    </tr>\n",
       "    <tr>\n",
       "      <th>500</th>\n",
       "      <td>16.8</td>\n",
       "      <td>20.6</td>\n",
       "      <td>3.8</td>\n",
       "    </tr>\n",
       "  </tbody>\n",
       "</table>\n",
       "</div>"
      ],
      "text/plain": [
       "     y_test  y_pred  y_difference\n",
       "173    23.6    28.6           5.0\n",
       "274    32.4    36.5           4.1\n",
       "491    13.6    15.4           1.8\n",
       "72     22.8    25.4           2.6\n",
       "452    16.1    18.9           2.8\n",
       "76     20.0    23.1           3.1\n",
       "316    17.8    17.4          -0.4\n",
       "140    14.0    14.1           0.1\n",
       "471    19.6    23.0           3.4\n",
       "500    16.8    20.6           3.8"
      ]
     },
     "execution_count": 19,
     "metadata": {},
     "output_type": "execute_result"
    }
   ],
   "source": [
    "# Чтобы оценить то, насколько отличаются предсказанные значения от реальных,\n",
    "# создадим отдельный столбец с их разностями:\n",
    "check_test['y_difference'] = check_test['y_pred'] - check_test['y_test']\n",
    "check_test.head(10).round(1)"
   ]
  },
  {
   "cell_type": "code",
   "execution_count": 20,
   "id": "3a1a2e12",
   "metadata": {},
   "outputs": [
    {
     "name": "stdout",
     "output_type": "stream",
     "text": [
      "R^2 (LinearRegression): 0.7112260057484973\n"
     ]
    }
   ],
   "source": [
    "# Для оценки качества модели линейной регресии при помощи метрики R^2,\n",
    "# импортируем соответствующую функцию:\n",
    "from sklearn.metrics import r2_score\n",
    "\n",
    "# Вычислим коэффициент детерминации (R^2), который показывает, какая доля изменчивости целевой переменной \n",
    "# объясняется с помощью модели Линейной регрессии:\n",
    "print('R^2 (LinearRegression):', r2_score(check_test['y_test'], check_test['y_pred']))"
   ]
  },
  {
   "cell_type": "markdown",
   "id": "9bb12703",
   "metadata": {},
   "source": [
    "По независимым данным и обучающей модели **LinearRegression** мы получили 71% изменчивости цены на жильё, тогда как остальные 29% изменчивости цены остались не учтёнными. То есть наши предсказания цен на жильё в Бостоне при помощи модели Линейной регрессии оказались верными на 71%.\n",
    "\n",
    "_**Примечание:**_ Модуль **sklearn.metrics** предоставляет набор простых функций, измеряющих ошибку предсказания с учётом истинности и предсказания: функции, заканчивающиеся на **_score** возвращают значение для максимизации, чем выше, тем лучше; а функции, заканчивающиеся на **_error** или **_loss** возвращающие значение, которое нужно минимизировать, чем ниже, тем лучше. "
   ]
  },
  {
   "cell_type": "markdown",
   "id": "d6685b0e",
   "metadata": {},
   "source": [
    "## Задание 2\n",
    "\n",
    "Создайте модель под названием **model** с помощью **RandomForestRegressor** из модуля **sklearn.ensemble**. Сделайте агрумент _**n_estimators**_ равным 1000, _**max_depth**_ должен быть равен 12, и _**random_state**_ сделайте равным 42. Обучите модель на тренировочных данных аналогично тому, как вы обучали модель **LinearRegression**, но при этом в метод **fit** вместо датафрейма **y_train** поставьте **y_train.values[:, 0]**, чтобы получить из датафрейма одномерный массив **Numpy**, так как для класса **RandomForestRegressor** в данном методе для аргумента _**y**_ предпочтительно применение массивов вместо датафрейма. Сделайте предсказание на тестовых данных и посчитайте **R^2**. Сравните с результатом из предыдущего задания. Напишите в комментариях к коду, какая модель в данном случае работает лучше."
   ]
  },
  {
   "cell_type": "code",
   "execution_count": 21,
   "id": "5beb14f6",
   "metadata": {},
   "outputs": [],
   "source": [
    "# Импортируем заданный класс регрессии - Случайный лес:\n",
    "from sklearn.ensemble import RandomForestRegressor\n",
    "\n",
    "# Создадим заданную модель этого класса:\n",
    "model = RandomForestRegressor(n_estimators = 1000, max_depth = 12, random_state = 42)"
   ]
  },
  {
   "cell_type": "code",
   "execution_count": 22,
   "id": "5e291708",
   "metadata": {},
   "outputs": [
    {
     "name": "stdout",
     "output_type": "stream",
     "text": [
      "Тип массива y_train2: float64\n",
      "Форма массива y_train2: (354,)\n",
      "Размерность массива y_train2: 1\n",
      "Количество элементов массива y_train2: 354\n"
     ]
    }
   ],
   "source": [
    "# Переделаем DataFrame y_train в одномерный массив, и посмотрим его характеристики:\n",
    "y_train2 = np.array(y_train.values[:, 0])\n",
    "print('Тип массива y_train2:', y_train2.dtype)\n",
    "print('Форма массива y_train2:', y_train2.shape)\n",
    "print('Размерность массива y_train2:', y_train2.ndim)\n",
    "print('Количество элементов массива y_train2:', y_train2.size)"
   ]
  },
  {
   "cell_type": "code",
   "execution_count": 23,
   "id": "c3416cbc",
   "metadata": {},
   "outputs": [
    {
     "data": {
      "text/plain": [
       "RandomForestRegressor(max_depth=12, n_estimators=1000, random_state=42)"
      ]
     },
     "execution_count": 23,
     "metadata": {},
     "output_type": "execute_result"
    }
   ],
   "source": [
    "# Обучим нашу модель:\n",
    "model.fit(X_train, y_train2)"
   ]
  },
  {
   "cell_type": "code",
   "execution_count": 24,
   "id": "9a4b2df1",
   "metadata": {},
   "outputs": [],
   "source": [
    "# На основе независимых тестовых переменных (X) предскажем цену на жильё:\n",
    "y_pred2 = model.predict(X_test)"
   ]
  },
  {
   "cell_type": "code",
   "execution_count": 25,
   "id": "ab8a8e8d",
   "metadata": {},
   "outputs": [
    {
     "data": {
      "text/html": [
       "<div>\n",
       "<style scoped>\n",
       "    .dataframe tbody tr th:only-of-type {\n",
       "        vertical-align: middle;\n",
       "    }\n",
       "\n",
       "    .dataframe tbody tr th {\n",
       "        vertical-align: top;\n",
       "    }\n",
       "\n",
       "    .dataframe thead th {\n",
       "        text-align: right;\n",
       "    }\n",
       "</style>\n",
       "<table border=\"1\" class=\"dataframe\">\n",
       "  <thead>\n",
       "    <tr style=\"text-align: right;\">\n",
       "      <th></th>\n",
       "      <th>y_test</th>\n",
       "      <th>y_pred</th>\n",
       "      <th>y_pred2</th>\n",
       "    </tr>\n",
       "  </thead>\n",
       "  <tbody>\n",
       "    <tr>\n",
       "      <th>173</th>\n",
       "      <td>23.6</td>\n",
       "      <td>28.6</td>\n",
       "      <td>22.8</td>\n",
       "    </tr>\n",
       "    <tr>\n",
       "      <th>274</th>\n",
       "      <td>32.4</td>\n",
       "      <td>36.5</td>\n",
       "      <td>31.1</td>\n",
       "    </tr>\n",
       "    <tr>\n",
       "      <th>491</th>\n",
       "      <td>13.6</td>\n",
       "      <td>15.4</td>\n",
       "      <td>16.3</td>\n",
       "    </tr>\n",
       "    <tr>\n",
       "      <th>72</th>\n",
       "      <td>22.8</td>\n",
       "      <td>25.4</td>\n",
       "      <td>23.8</td>\n",
       "    </tr>\n",
       "    <tr>\n",
       "      <th>452</th>\n",
       "      <td>16.1</td>\n",
       "      <td>18.9</td>\n",
       "      <td>17.1</td>\n",
       "    </tr>\n",
       "    <tr>\n",
       "      <th>76</th>\n",
       "      <td>20.0</td>\n",
       "      <td>23.1</td>\n",
       "      <td>21.8</td>\n",
       "    </tr>\n",
       "    <tr>\n",
       "      <th>316</th>\n",
       "      <td>17.8</td>\n",
       "      <td>17.4</td>\n",
       "      <td>19.9</td>\n",
       "    </tr>\n",
       "    <tr>\n",
       "      <th>140</th>\n",
       "      <td>14.0</td>\n",
       "      <td>14.1</td>\n",
       "      <td>14.8</td>\n",
       "    </tr>\n",
       "    <tr>\n",
       "      <th>471</th>\n",
       "      <td>19.6</td>\n",
       "      <td>23.0</td>\n",
       "      <td>21.2</td>\n",
       "    </tr>\n",
       "    <tr>\n",
       "      <th>500</th>\n",
       "      <td>16.8</td>\n",
       "      <td>20.6</td>\n",
       "      <td>20.9</td>\n",
       "    </tr>\n",
       "  </tbody>\n",
       "</table>\n",
       "</div>"
      ],
      "text/plain": [
       "     y_test  y_pred  y_pred2\n",
       "173    23.6    28.6     22.8\n",
       "274    32.4    36.5     31.1\n",
       "491    13.6    15.4     16.3\n",
       "72     22.8    25.4     23.8\n",
       "452    16.1    18.9     17.1\n",
       "76     20.0    23.1     21.8\n",
       "316    17.8    17.4     19.9\n",
       "140    14.0    14.1     14.8\n",
       "471    19.6    23.0     21.2\n",
       "500    16.8    20.6     20.9"
      ]
     },
     "execution_count": 25,
     "metadata": {},
     "output_type": "execute_result"
    }
   ],
   "source": [
    "# Создадим таблицу DataFrame чтобы сопоставить реальные значения с предсказанными. \n",
    "# Поскольку массив y_pred является двумерным, переведём его в одномерный, используя метод .flatten:\n",
    "check_test2 = pd.DataFrame({'y_test': y_test['MEDV'], 'y_pred': y_pred.flatten(), \"y_pred2\": y_pred2})\n",
    "check_test2.head(10).round(1)"
   ]
  },
  {
   "cell_type": "code",
   "execution_count": 26,
   "id": "351f649c",
   "metadata": {},
   "outputs": [
    {
     "name": "stdout",
     "output_type": "stream",
     "text": [
      "R^2 (RandomForestRegressor): 0.87472606157312\n"
     ]
    }
   ],
   "source": [
    "# Вычислим коэффициент детерминации (R^2), который показывает, какая доля изменчивости целевой переменной \n",
    "# объясняется с помощью модели регрессии - Случайный лес:\n",
    "print('R^2 (RandomForestRegressor):', r2_score(check_test2['y_test'], check_test2['y_pred2']))"
   ]
  },
  {
   "cell_type": "markdown",
   "id": "43955bd2",
   "metadata": {},
   "source": [
    "Наши предсказания цены на жильё в Бостане по независимым данным и обучающей модели RandomForestRegressor оказались верными на 87%, что гораздо эффективнее, чем предсказания по модели LinearRegression."
   ]
  },
  {
   "cell_type": "markdown",
   "id": "a0b4be47",
   "metadata": {},
   "source": [
    "## Задание 3*\n",
    "\n",
    "Вызовите документацию для класса **RandomForestRegressor**, найдите информацию об атрибуте **feature_importances_**. С помощью этого атрибута найдите сумму всех показателей важности, установите, какие два признака показывают наибольшую важность."
   ]
  },
  {
   "cell_type": "code",
   "execution_count": 27,
   "id": "c878d41f",
   "metadata": {},
   "outputs": [],
   "source": [
    "# Просмотр документации (следует снять комментирование со следующей строки):\n",
    "# ?RandomForestRegressor"
   ]
  },
  {
   "cell_type": "code",
   "execution_count": 28,
   "id": "da13ff3f",
   "metadata": {},
   "outputs": [
    {
     "name": "stdout",
     "output_type": "stream",
     "text": [
      "[0.03167574 0.00154252 0.00713813 0.00123624 0.01426897 0.40268179\n",
      " 0.01429864 0.06397257 0.00528122 0.01152493 0.01808108 0.01245085\n",
      " 0.41584732]\n"
     ]
    }
   ],
   "source": [
    "# Посмотрим на значения атрибута важности:\n",
    "print(model.feature_importances_)"
   ]
  },
  {
   "cell_type": "code",
   "execution_count": 29,
   "id": "f6b44b0e",
   "metadata": {},
   "outputs": [
    {
     "name": "stdout",
     "output_type": "stream",
     "text": [
      "1.0\n"
     ]
    }
   ],
   "source": [
    "# Найдём сумму всех показателей важности:\n",
    "print(model.feature_importances_.sum())"
   ]
  },
  {
   "cell_type": "code",
   "execution_count": 30,
   "id": "77c4e952",
   "metadata": {},
   "outputs": [
    {
     "name": "stdout",
     "output_type": "stream",
     "text": [
      "12\n"
     ]
    }
   ],
   "source": [
    "# Найдём индекс максимального значения:\n",
    "max_value = model.feature_importances_.argmax()\n",
    "print(max_value)"
   ]
  },
  {
   "cell_type": "code",
   "execution_count": 31,
   "id": "11c3a99b",
   "metadata": {},
   "outputs": [
    {
     "data": {
      "text/html": [
       "<div>\n",
       "<style scoped>\n",
       "    .dataframe tbody tr th:only-of-type {\n",
       "        vertical-align: middle;\n",
       "    }\n",
       "\n",
       "    .dataframe tbody tr th {\n",
       "        vertical-align: top;\n",
       "    }\n",
       "\n",
       "    .dataframe thead th {\n",
       "        text-align: right;\n",
       "    }\n",
       "</style>\n",
       "<table border=\"1\" class=\"dataframe\">\n",
       "  <thead>\n",
       "    <tr style=\"text-align: right;\">\n",
       "      <th></th>\n",
       "      <th>feature_name</th>\n",
       "      <th>feature_importance</th>\n",
       "    </tr>\n",
       "  </thead>\n",
       "  <tbody>\n",
       "    <tr>\n",
       "      <th>0</th>\n",
       "      <td>CRIM</td>\n",
       "      <td>0.031676</td>\n",
       "    </tr>\n",
       "    <tr>\n",
       "      <th>1</th>\n",
       "      <td>ZN</td>\n",
       "      <td>0.001543</td>\n",
       "    </tr>\n",
       "    <tr>\n",
       "      <th>2</th>\n",
       "      <td>INDUS</td>\n",
       "      <td>0.007138</td>\n",
       "    </tr>\n",
       "    <tr>\n",
       "      <th>3</th>\n",
       "      <td>CHAS</td>\n",
       "      <td>0.001236</td>\n",
       "    </tr>\n",
       "    <tr>\n",
       "      <th>4</th>\n",
       "      <td>NOX</td>\n",
       "      <td>0.014269</td>\n",
       "    </tr>\n",
       "    <tr>\n",
       "      <th>5</th>\n",
       "      <td>RM</td>\n",
       "      <td>0.402682</td>\n",
       "    </tr>\n",
       "    <tr>\n",
       "      <th>6</th>\n",
       "      <td>AGE</td>\n",
       "      <td>0.014299</td>\n",
       "    </tr>\n",
       "    <tr>\n",
       "      <th>7</th>\n",
       "      <td>DIS</td>\n",
       "      <td>0.063973</td>\n",
       "    </tr>\n",
       "    <tr>\n",
       "      <th>8</th>\n",
       "      <td>RAD</td>\n",
       "      <td>0.005281</td>\n",
       "    </tr>\n",
       "    <tr>\n",
       "      <th>9</th>\n",
       "      <td>TAX</td>\n",
       "      <td>0.011525</td>\n",
       "    </tr>\n",
       "    <tr>\n",
       "      <th>10</th>\n",
       "      <td>PTRATIO</td>\n",
       "      <td>0.018081</td>\n",
       "    </tr>\n",
       "    <tr>\n",
       "      <th>11</th>\n",
       "      <td>B</td>\n",
       "      <td>0.012451</td>\n",
       "    </tr>\n",
       "    <tr>\n",
       "      <th>12</th>\n",
       "      <td>LSTAT</td>\n",
       "      <td>0.415847</td>\n",
       "    </tr>\n",
       "  </tbody>\n",
       "</table>\n",
       "</div>"
      ],
      "text/plain": [
       "   feature_name  feature_importance\n",
       "0          CRIM            0.031676\n",
       "1            ZN            0.001543\n",
       "2         INDUS            0.007138\n",
       "3          CHAS            0.001236\n",
       "4           NOX            0.014269\n",
       "5            RM            0.402682\n",
       "6           AGE            0.014299\n",
       "7           DIS            0.063973\n",
       "8           RAD            0.005281\n",
       "9           TAX            0.011525\n",
       "10      PTRATIO            0.018081\n",
       "11            B            0.012451\n",
       "12        LSTAT            0.415847"
      ]
     },
     "execution_count": 31,
     "metadata": {},
     "output_type": "execute_result"
    }
   ],
   "source": [
    "# Создадим DataFrame соответствия назнания признаков и показателей важности:\n",
    "df_fi = pd.DataFrame({'feature_name': boston['feature_names'],\n",
    "    'feature_importance': model.feature_importances_})\n",
    "df_fi"
   ]
  },
  {
   "cell_type": "code",
   "execution_count": 32,
   "id": "8f731065",
   "metadata": {},
   "outputs": [
    {
     "data": {
      "text/html": [
       "<div>\n",
       "<style scoped>\n",
       "    .dataframe tbody tr th:only-of-type {\n",
       "        vertical-align: middle;\n",
       "    }\n",
       "\n",
       "    .dataframe tbody tr th {\n",
       "        vertical-align: top;\n",
       "    }\n",
       "\n",
       "    .dataframe thead th {\n",
       "        text-align: right;\n",
       "    }\n",
       "</style>\n",
       "<table border=\"1\" class=\"dataframe\">\n",
       "  <thead>\n",
       "    <tr style=\"text-align: right;\">\n",
       "      <th></th>\n",
       "      <th>feature_name</th>\n",
       "      <th>feature_importance</th>\n",
       "    </tr>\n",
       "  </thead>\n",
       "  <tbody>\n",
       "    <tr>\n",
       "      <th>12</th>\n",
       "      <td>LSTAT</td>\n",
       "      <td>0.415847</td>\n",
       "    </tr>\n",
       "    <tr>\n",
       "      <th>5</th>\n",
       "      <td>RM</td>\n",
       "      <td>0.402682</td>\n",
       "    </tr>\n",
       "  </tbody>\n",
       "</table>\n",
       "</div>"
      ],
      "text/plain": [
       "   feature_name  feature_importance\n",
       "12        LSTAT            0.415847\n",
       "5            RM            0.402682"
      ]
     },
     "execution_count": 32,
     "metadata": {},
     "output_type": "execute_result"
    }
   ],
   "source": [
    "# Отсортируем показатели важности по убыванию и выведем два наиболее важных:\n",
    "df_fi.sort_values(\"feature_importance\", ascending = False).head(2)"
   ]
  },
  {
   "cell_type": "markdown",
   "id": "7dc602ad",
   "metadata": {},
   "source": [
    "Таким образом, признаки LSTAT и RM обладают наибольшей важностью."
   ]
  },
  {
   "cell_type": "markdown",
   "id": "69220fae",
   "metadata": {},
   "source": [
    "## Задание 4*\n",
    "\n",
    "В этом задании мы будем работать с датасетом, с которым мы уже знакомы по домашнему заданию по библиотеке **Matplotlib**, это датасет **Credit Card Fraud Detection**. Для этого датасета мы будем решать задачу классификации - будем определять, какие из транзакциций по кредитной карте являются мошенническими. Данный датасет сильно несбалансирован (так как случаи мошенничества относительно редки), так что применение метрики **accuracy** не принесёт пользы и не поможет выбрать лучшую модель. Мы будем вычислять **AUC**, то есть площадь под кривой **ROC**.\n",
    "\n",
    "Импортируйте из соответствующих модулей **RandomForestClassifier**, **GridSearchCV** и **train_test_split**. Загрузите датасет **creditcard.csv** и создайте датафрейм **df**. С помощью метода **value_counts** с аргументом **normalize = True** убедитесь в том, что выборка несбалансирована. Используя метод **info**, проверьте, все ли столбцы содержат числовые данные и нет ли в них пропусков.Примените следующую настройку, чтобы можно было просматривать все столбцы датафрейма: **pd.options.display.max_columns = 100**.\n",
    "\n",
    "Просмотрите первые 10 строк датафрейма **df**. Создайте датафрейм _**X**_ из датафрейма **df**, исключив столбец **Class**. Создайте объект **Series** под названием _**y**_ из столбца **Class**.\n",
    "\n",
    "Разбейте _**X**_ и _**y**_ на тренировочный и тестовый наборы данных при помощи функции **train_test_split**, используя аргументы: **test_size = 0.3, random_state = 100, stratify = y**. У вас должны получиться объекты _**X_train, X_test, y_train и y_test**_. Просмотрите информацию о их форме. Для поиска по сетке параметров задайте такие параметры: **parameters = [{'n_estimators': [10, 15], 'max_features': np.arange(3, 5), 'max_depth': np.arange(4, 7)}]**. Создайте модель **GridSearchCV** со следующими аргументами: **estimator = RandomForestClassifier(random_state = 100), param_grid=parameters, scoring = 'roc_auc', cv = 3**. Обучите модель на тренировочном наборе данных (может занять несколько минут). Просмотрите параметры лучшей модели с помощью атрибута **best_params_**. Предскажите вероятности классов с помощью полученнной модели и метода **predict_proba**. Из полученного результата (массив **Numpy**) выберите столбец с индексом 1 (вероятность класса 1) и запишите в массив **y_pred_proba**. Из модуля **sklearn.metrics** импортируйте метрику **roc_auc_score**. Вычислите **AUC** на тестовых данных и сравните с результатом, полученным на тренировочных данных, используя в качестве аргументов массивы **y_test и y_pred_proba**."
   ]
  },
  {
   "cell_type": "code",
   "execution_count": 33,
   "id": "f476a751",
   "metadata": {},
   "outputs": [],
   "source": [
    "# Импортируем заданные классы и функцию разделения данных:\n",
    "from sklearn.ensemble import RandomForestClassifier\n",
    "from sklearn.model_selection import GridSearchCV\n",
    "from sklearn.model_selection import train_test_split"
   ]
  },
  {
   "cell_type": "code",
   "execution_count": 34,
   "id": "7f1cdafc",
   "metadata": {},
   "outputs": [
    {
     "name": "stdout",
     "output_type": "stream",
     "text": [
      "Форма датафрейма: (284807, 31)\n"
     ]
    }
   ],
   "source": [
    "# Загрузим DataSet и создадим DataFrame:\n",
    "FILE_PATH = 'creditcard.csv'\n",
    "creditcard = pd.read_csv(FILE_PATH)\n",
    "print('Форма датафрейма:', creditcard.shape)"
   ]
  },
  {
   "cell_type": "code",
   "execution_count": 35,
   "id": "49f1e5eb",
   "metadata": {},
   "outputs": [
    {
     "name": "stdout",
     "output_type": "stream",
     "text": [
      "0    0.998273\n",
      "1    0.001727\n",
      "Name: Class, dtype: float64\n"
     ]
    }
   ],
   "source": [
    "# Убедимся, что выборка несбалонсированна,\n",
    "# т.е. объектов одного класса сильно больше, чем объектов другого:\n",
    "class_variable = creditcard['Class'].value_counts(normalize = True)\n",
    "print(class_variable)"
   ]
  },
  {
   "cell_type": "code",
   "execution_count": 36,
   "id": "05f87ded",
   "metadata": {},
   "outputs": [
    {
     "name": "stdout",
     "output_type": "stream",
     "text": [
      "<class 'pandas.core.frame.DataFrame'>\n",
      "RangeIndex: 284807 entries, 0 to 284806\n",
      "Data columns (total 31 columns):\n",
      " #   Column  Non-Null Count   Dtype  \n",
      "---  ------  --------------   -----  \n",
      " 0   Time    284807 non-null  float64\n",
      " 1   V1      284807 non-null  float64\n",
      " 2   V2      284807 non-null  float64\n",
      " 3   V3      284807 non-null  float64\n",
      " 4   V4      284807 non-null  float64\n",
      " 5   V5      284807 non-null  float64\n",
      " 6   V6      284807 non-null  float64\n",
      " 7   V7      284807 non-null  float64\n",
      " 8   V8      284807 non-null  float64\n",
      " 9   V9      284807 non-null  float64\n",
      " 10  V10     284807 non-null  float64\n",
      " 11  V11     284807 non-null  float64\n",
      " 12  V12     284807 non-null  float64\n",
      " 13  V13     284807 non-null  float64\n",
      " 14  V14     284807 non-null  float64\n",
      " 15  V15     284807 non-null  float64\n",
      " 16  V16     284807 non-null  float64\n",
      " 17  V17     284807 non-null  float64\n",
      " 18  V18     284807 non-null  float64\n",
      " 19  V19     284807 non-null  float64\n",
      " 20  V20     284807 non-null  float64\n",
      " 21  V21     284807 non-null  float64\n",
      " 22  V22     284807 non-null  float64\n",
      " 23  V23     284807 non-null  float64\n",
      " 24  V24     284807 non-null  float64\n",
      " 25  V25     284807 non-null  float64\n",
      " 26  V26     284807 non-null  float64\n",
      " 27  V27     284807 non-null  float64\n",
      " 28  V28     284807 non-null  float64\n",
      " 29  Amount  284807 non-null  float64\n",
      " 30  Class   284807 non-null  int64  \n",
      "dtypes: float64(30), int64(1)\n",
      "memory usage: 67.4 MB\n"
     ]
    }
   ],
   "source": [
    "# Посмотрим информацию о DataFrame, где все столбцы имеют числовые значения,\n",
    "# и в них нет пропусков:\n",
    "creditcard.info()"
   ]
  },
  {
   "cell_type": "code",
   "execution_count": 37,
   "id": "7f6e873a",
   "metadata": {},
   "outputs": [],
   "source": [
    "# Применим настройку для просмотра всех стобцов DataFrame:\n",
    "pd.options.display.max_columns = 100"
   ]
  },
  {
   "cell_type": "code",
   "execution_count": 38,
   "id": "b6c3755f",
   "metadata": {},
   "outputs": [
    {
     "data": {
      "text/html": [
       "<div>\n",
       "<style scoped>\n",
       "    .dataframe tbody tr th:only-of-type {\n",
       "        vertical-align: middle;\n",
       "    }\n",
       "\n",
       "    .dataframe tbody tr th {\n",
       "        vertical-align: top;\n",
       "    }\n",
       "\n",
       "    .dataframe thead th {\n",
       "        text-align: right;\n",
       "    }\n",
       "</style>\n",
       "<table border=\"1\" class=\"dataframe\">\n",
       "  <thead>\n",
       "    <tr style=\"text-align: right;\">\n",
       "      <th></th>\n",
       "      <th>Time</th>\n",
       "      <th>V1</th>\n",
       "      <th>V2</th>\n",
       "      <th>V3</th>\n",
       "      <th>V4</th>\n",
       "      <th>V5</th>\n",
       "      <th>V6</th>\n",
       "      <th>V7</th>\n",
       "      <th>V8</th>\n",
       "      <th>V9</th>\n",
       "      <th>V10</th>\n",
       "      <th>V11</th>\n",
       "      <th>V12</th>\n",
       "      <th>V13</th>\n",
       "      <th>V14</th>\n",
       "      <th>V15</th>\n",
       "      <th>V16</th>\n",
       "      <th>V17</th>\n",
       "      <th>V18</th>\n",
       "      <th>V19</th>\n",
       "      <th>V20</th>\n",
       "      <th>V21</th>\n",
       "      <th>V22</th>\n",
       "      <th>V23</th>\n",
       "      <th>V24</th>\n",
       "      <th>V25</th>\n",
       "      <th>V26</th>\n",
       "      <th>V27</th>\n",
       "      <th>V28</th>\n",
       "      <th>Amount</th>\n",
       "      <th>Class</th>\n",
       "    </tr>\n",
       "  </thead>\n",
       "  <tbody>\n",
       "    <tr>\n",
       "      <th>0</th>\n",
       "      <td>0.0</td>\n",
       "      <td>-1.36</td>\n",
       "      <td>-0.07</td>\n",
       "      <td>2.54</td>\n",
       "      <td>1.38</td>\n",
       "      <td>-0.34</td>\n",
       "      <td>0.46</td>\n",
       "      <td>0.24</td>\n",
       "      <td>0.10</td>\n",
       "      <td>0.36</td>\n",
       "      <td>0.09</td>\n",
       "      <td>-0.55</td>\n",
       "      <td>-0.62</td>\n",
       "      <td>-0.99</td>\n",
       "      <td>-0.31</td>\n",
       "      <td>1.47</td>\n",
       "      <td>-0.47</td>\n",
       "      <td>0.21</td>\n",
       "      <td>0.03</td>\n",
       "      <td>0.40</td>\n",
       "      <td>0.25</td>\n",
       "      <td>-0.02</td>\n",
       "      <td>0.28</td>\n",
       "      <td>-0.11</td>\n",
       "      <td>0.07</td>\n",
       "      <td>0.13</td>\n",
       "      <td>-0.19</td>\n",
       "      <td>0.13</td>\n",
       "      <td>-0.02</td>\n",
       "      <td>149.62</td>\n",
       "      <td>0</td>\n",
       "    </tr>\n",
       "    <tr>\n",
       "      <th>1</th>\n",
       "      <td>0.0</td>\n",
       "      <td>1.19</td>\n",
       "      <td>0.27</td>\n",
       "      <td>0.17</td>\n",
       "      <td>0.45</td>\n",
       "      <td>0.06</td>\n",
       "      <td>-0.08</td>\n",
       "      <td>-0.08</td>\n",
       "      <td>0.09</td>\n",
       "      <td>-0.26</td>\n",
       "      <td>-0.17</td>\n",
       "      <td>1.61</td>\n",
       "      <td>1.07</td>\n",
       "      <td>0.49</td>\n",
       "      <td>-0.14</td>\n",
       "      <td>0.64</td>\n",
       "      <td>0.46</td>\n",
       "      <td>-0.11</td>\n",
       "      <td>-0.18</td>\n",
       "      <td>-0.15</td>\n",
       "      <td>-0.07</td>\n",
       "      <td>-0.23</td>\n",
       "      <td>-0.64</td>\n",
       "      <td>0.10</td>\n",
       "      <td>-0.34</td>\n",
       "      <td>0.17</td>\n",
       "      <td>0.13</td>\n",
       "      <td>-0.01</td>\n",
       "      <td>0.01</td>\n",
       "      <td>2.69</td>\n",
       "      <td>0</td>\n",
       "    </tr>\n",
       "    <tr>\n",
       "      <th>2</th>\n",
       "      <td>1.0</td>\n",
       "      <td>-1.36</td>\n",
       "      <td>-1.34</td>\n",
       "      <td>1.77</td>\n",
       "      <td>0.38</td>\n",
       "      <td>-0.50</td>\n",
       "      <td>1.80</td>\n",
       "      <td>0.79</td>\n",
       "      <td>0.25</td>\n",
       "      <td>-1.51</td>\n",
       "      <td>0.21</td>\n",
       "      <td>0.62</td>\n",
       "      <td>0.07</td>\n",
       "      <td>0.72</td>\n",
       "      <td>-0.17</td>\n",
       "      <td>2.35</td>\n",
       "      <td>-2.89</td>\n",
       "      <td>1.11</td>\n",
       "      <td>-0.12</td>\n",
       "      <td>-2.26</td>\n",
       "      <td>0.52</td>\n",
       "      <td>0.25</td>\n",
       "      <td>0.77</td>\n",
       "      <td>0.91</td>\n",
       "      <td>-0.69</td>\n",
       "      <td>-0.33</td>\n",
       "      <td>-0.14</td>\n",
       "      <td>-0.06</td>\n",
       "      <td>-0.06</td>\n",
       "      <td>378.66</td>\n",
       "      <td>0</td>\n",
       "    </tr>\n",
       "    <tr>\n",
       "      <th>3</th>\n",
       "      <td>1.0</td>\n",
       "      <td>-0.97</td>\n",
       "      <td>-0.19</td>\n",
       "      <td>1.79</td>\n",
       "      <td>-0.86</td>\n",
       "      <td>-0.01</td>\n",
       "      <td>1.25</td>\n",
       "      <td>0.24</td>\n",
       "      <td>0.38</td>\n",
       "      <td>-1.39</td>\n",
       "      <td>-0.05</td>\n",
       "      <td>-0.23</td>\n",
       "      <td>0.18</td>\n",
       "      <td>0.51</td>\n",
       "      <td>-0.29</td>\n",
       "      <td>-0.63</td>\n",
       "      <td>-1.06</td>\n",
       "      <td>-0.68</td>\n",
       "      <td>1.97</td>\n",
       "      <td>-1.23</td>\n",
       "      <td>-0.21</td>\n",
       "      <td>-0.11</td>\n",
       "      <td>0.01</td>\n",
       "      <td>-0.19</td>\n",
       "      <td>-1.18</td>\n",
       "      <td>0.65</td>\n",
       "      <td>-0.22</td>\n",
       "      <td>0.06</td>\n",
       "      <td>0.06</td>\n",
       "      <td>123.50</td>\n",
       "      <td>0</td>\n",
       "    </tr>\n",
       "    <tr>\n",
       "      <th>4</th>\n",
       "      <td>2.0</td>\n",
       "      <td>-1.16</td>\n",
       "      <td>0.88</td>\n",
       "      <td>1.55</td>\n",
       "      <td>0.40</td>\n",
       "      <td>-0.41</td>\n",
       "      <td>0.10</td>\n",
       "      <td>0.59</td>\n",
       "      <td>-0.27</td>\n",
       "      <td>0.82</td>\n",
       "      <td>0.75</td>\n",
       "      <td>-0.82</td>\n",
       "      <td>0.54</td>\n",
       "      <td>1.35</td>\n",
       "      <td>-1.12</td>\n",
       "      <td>0.18</td>\n",
       "      <td>-0.45</td>\n",
       "      <td>-0.24</td>\n",
       "      <td>-0.04</td>\n",
       "      <td>0.80</td>\n",
       "      <td>0.41</td>\n",
       "      <td>-0.01</td>\n",
       "      <td>0.80</td>\n",
       "      <td>-0.14</td>\n",
       "      <td>0.14</td>\n",
       "      <td>-0.21</td>\n",
       "      <td>0.50</td>\n",
       "      <td>0.22</td>\n",
       "      <td>0.22</td>\n",
       "      <td>69.99</td>\n",
       "      <td>0</td>\n",
       "    </tr>\n",
       "    <tr>\n",
       "      <th>5</th>\n",
       "      <td>2.0</td>\n",
       "      <td>-0.43</td>\n",
       "      <td>0.96</td>\n",
       "      <td>1.14</td>\n",
       "      <td>-0.17</td>\n",
       "      <td>0.42</td>\n",
       "      <td>-0.03</td>\n",
       "      <td>0.48</td>\n",
       "      <td>0.26</td>\n",
       "      <td>-0.57</td>\n",
       "      <td>-0.37</td>\n",
       "      <td>1.34</td>\n",
       "      <td>0.36</td>\n",
       "      <td>-0.36</td>\n",
       "      <td>-0.14</td>\n",
       "      <td>0.52</td>\n",
       "      <td>0.40</td>\n",
       "      <td>-0.06</td>\n",
       "      <td>0.07</td>\n",
       "      <td>-0.03</td>\n",
       "      <td>0.08</td>\n",
       "      <td>-0.21</td>\n",
       "      <td>-0.56</td>\n",
       "      <td>-0.03</td>\n",
       "      <td>-0.37</td>\n",
       "      <td>-0.23</td>\n",
       "      <td>0.11</td>\n",
       "      <td>0.25</td>\n",
       "      <td>0.08</td>\n",
       "      <td>3.67</td>\n",
       "      <td>0</td>\n",
       "    </tr>\n",
       "    <tr>\n",
       "      <th>6</th>\n",
       "      <td>4.0</td>\n",
       "      <td>1.23</td>\n",
       "      <td>0.14</td>\n",
       "      <td>0.05</td>\n",
       "      <td>1.20</td>\n",
       "      <td>0.19</td>\n",
       "      <td>0.27</td>\n",
       "      <td>-0.01</td>\n",
       "      <td>0.08</td>\n",
       "      <td>0.46</td>\n",
       "      <td>-0.10</td>\n",
       "      <td>-1.42</td>\n",
       "      <td>-0.15</td>\n",
       "      <td>-0.75</td>\n",
       "      <td>0.17</td>\n",
       "      <td>0.05</td>\n",
       "      <td>-0.44</td>\n",
       "      <td>0.00</td>\n",
       "      <td>-0.61</td>\n",
       "      <td>-0.05</td>\n",
       "      <td>-0.22</td>\n",
       "      <td>-0.17</td>\n",
       "      <td>-0.27</td>\n",
       "      <td>-0.15</td>\n",
       "      <td>-0.78</td>\n",
       "      <td>0.75</td>\n",
       "      <td>-0.26</td>\n",
       "      <td>0.03</td>\n",
       "      <td>0.01</td>\n",
       "      <td>4.99</td>\n",
       "      <td>0</td>\n",
       "    </tr>\n",
       "    <tr>\n",
       "      <th>7</th>\n",
       "      <td>7.0</td>\n",
       "      <td>-0.64</td>\n",
       "      <td>1.42</td>\n",
       "      <td>1.07</td>\n",
       "      <td>-0.49</td>\n",
       "      <td>0.95</td>\n",
       "      <td>0.43</td>\n",
       "      <td>1.12</td>\n",
       "      <td>-3.81</td>\n",
       "      <td>0.62</td>\n",
       "      <td>1.25</td>\n",
       "      <td>-0.62</td>\n",
       "      <td>0.29</td>\n",
       "      <td>1.76</td>\n",
       "      <td>-1.32</td>\n",
       "      <td>0.69</td>\n",
       "      <td>-0.08</td>\n",
       "      <td>-1.22</td>\n",
       "      <td>-0.36</td>\n",
       "      <td>0.32</td>\n",
       "      <td>-0.16</td>\n",
       "      <td>1.94</td>\n",
       "      <td>-1.02</td>\n",
       "      <td>0.06</td>\n",
       "      <td>-0.65</td>\n",
       "      <td>-0.42</td>\n",
       "      <td>-0.05</td>\n",
       "      <td>-1.21</td>\n",
       "      <td>-1.09</td>\n",
       "      <td>40.80</td>\n",
       "      <td>0</td>\n",
       "    </tr>\n",
       "    <tr>\n",
       "      <th>8</th>\n",
       "      <td>7.0</td>\n",
       "      <td>-0.89</td>\n",
       "      <td>0.29</td>\n",
       "      <td>-0.11</td>\n",
       "      <td>-0.27</td>\n",
       "      <td>2.67</td>\n",
       "      <td>3.72</td>\n",
       "      <td>0.37</td>\n",
       "      <td>0.85</td>\n",
       "      <td>-0.39</td>\n",
       "      <td>-0.41</td>\n",
       "      <td>-0.71</td>\n",
       "      <td>-0.11</td>\n",
       "      <td>-0.29</td>\n",
       "      <td>0.07</td>\n",
       "      <td>-0.33</td>\n",
       "      <td>-0.21</td>\n",
       "      <td>-0.50</td>\n",
       "      <td>0.12</td>\n",
       "      <td>0.57</td>\n",
       "      <td>0.05</td>\n",
       "      <td>-0.07</td>\n",
       "      <td>-0.27</td>\n",
       "      <td>-0.20</td>\n",
       "      <td>1.01</td>\n",
       "      <td>0.37</td>\n",
       "      <td>-0.38</td>\n",
       "      <td>0.01</td>\n",
       "      <td>0.14</td>\n",
       "      <td>93.20</td>\n",
       "      <td>0</td>\n",
       "    </tr>\n",
       "    <tr>\n",
       "      <th>9</th>\n",
       "      <td>9.0</td>\n",
       "      <td>-0.34</td>\n",
       "      <td>1.12</td>\n",
       "      <td>1.04</td>\n",
       "      <td>-0.22</td>\n",
       "      <td>0.50</td>\n",
       "      <td>-0.25</td>\n",
       "      <td>0.65</td>\n",
       "      <td>0.07</td>\n",
       "      <td>-0.74</td>\n",
       "      <td>-0.37</td>\n",
       "      <td>1.02</td>\n",
       "      <td>0.84</td>\n",
       "      <td>1.01</td>\n",
       "      <td>-0.44</td>\n",
       "      <td>0.15</td>\n",
       "      <td>0.74</td>\n",
       "      <td>-0.54</td>\n",
       "      <td>0.48</td>\n",
       "      <td>0.45</td>\n",
       "      <td>0.20</td>\n",
       "      <td>-0.25</td>\n",
       "      <td>-0.63</td>\n",
       "      <td>-0.12</td>\n",
       "      <td>-0.39</td>\n",
       "      <td>-0.07</td>\n",
       "      <td>0.09</td>\n",
       "      <td>0.25</td>\n",
       "      <td>0.08</td>\n",
       "      <td>3.68</td>\n",
       "      <td>0</td>\n",
       "    </tr>\n",
       "  </tbody>\n",
       "</table>\n",
       "</div>"
      ],
      "text/plain": [
       "   Time    V1    V2    V3    V4    V5    V6    V7    V8    V9   V10   V11  \\\n",
       "0   0.0 -1.36 -0.07  2.54  1.38 -0.34  0.46  0.24  0.10  0.36  0.09 -0.55   \n",
       "1   0.0  1.19  0.27  0.17  0.45  0.06 -0.08 -0.08  0.09 -0.26 -0.17  1.61   \n",
       "2   1.0 -1.36 -1.34  1.77  0.38 -0.50  1.80  0.79  0.25 -1.51  0.21  0.62   \n",
       "3   1.0 -0.97 -0.19  1.79 -0.86 -0.01  1.25  0.24  0.38 -1.39 -0.05 -0.23   \n",
       "4   2.0 -1.16  0.88  1.55  0.40 -0.41  0.10  0.59 -0.27  0.82  0.75 -0.82   \n",
       "5   2.0 -0.43  0.96  1.14 -0.17  0.42 -0.03  0.48  0.26 -0.57 -0.37  1.34   \n",
       "6   4.0  1.23  0.14  0.05  1.20  0.19  0.27 -0.01  0.08  0.46 -0.10 -1.42   \n",
       "7   7.0 -0.64  1.42  1.07 -0.49  0.95  0.43  1.12 -3.81  0.62  1.25 -0.62   \n",
       "8   7.0 -0.89  0.29 -0.11 -0.27  2.67  3.72  0.37  0.85 -0.39 -0.41 -0.71   \n",
       "9   9.0 -0.34  1.12  1.04 -0.22  0.50 -0.25  0.65  0.07 -0.74 -0.37  1.02   \n",
       "\n",
       "    V12   V13   V14   V15   V16   V17   V18   V19   V20   V21   V22   V23  \\\n",
       "0 -0.62 -0.99 -0.31  1.47 -0.47  0.21  0.03  0.40  0.25 -0.02  0.28 -0.11   \n",
       "1  1.07  0.49 -0.14  0.64  0.46 -0.11 -0.18 -0.15 -0.07 -0.23 -0.64  0.10   \n",
       "2  0.07  0.72 -0.17  2.35 -2.89  1.11 -0.12 -2.26  0.52  0.25  0.77  0.91   \n",
       "3  0.18  0.51 -0.29 -0.63 -1.06 -0.68  1.97 -1.23 -0.21 -0.11  0.01 -0.19   \n",
       "4  0.54  1.35 -1.12  0.18 -0.45 -0.24 -0.04  0.80  0.41 -0.01  0.80 -0.14   \n",
       "5  0.36 -0.36 -0.14  0.52  0.40 -0.06  0.07 -0.03  0.08 -0.21 -0.56 -0.03   \n",
       "6 -0.15 -0.75  0.17  0.05 -0.44  0.00 -0.61 -0.05 -0.22 -0.17 -0.27 -0.15   \n",
       "7  0.29  1.76 -1.32  0.69 -0.08 -1.22 -0.36  0.32 -0.16  1.94 -1.02  0.06   \n",
       "8 -0.11 -0.29  0.07 -0.33 -0.21 -0.50  0.12  0.57  0.05 -0.07 -0.27 -0.20   \n",
       "9  0.84  1.01 -0.44  0.15  0.74 -0.54  0.48  0.45  0.20 -0.25 -0.63 -0.12   \n",
       "\n",
       "    V24   V25   V26   V27   V28  Amount  Class  \n",
       "0  0.07  0.13 -0.19  0.13 -0.02  149.62      0  \n",
       "1 -0.34  0.17  0.13 -0.01  0.01    2.69      0  \n",
       "2 -0.69 -0.33 -0.14 -0.06 -0.06  378.66      0  \n",
       "3 -1.18  0.65 -0.22  0.06  0.06  123.50      0  \n",
       "4  0.14 -0.21  0.50  0.22  0.22   69.99      0  \n",
       "5 -0.37 -0.23  0.11  0.25  0.08    3.67      0  \n",
       "6 -0.78  0.75 -0.26  0.03  0.01    4.99      0  \n",
       "7 -0.65 -0.42 -0.05 -1.21 -1.09   40.80      0  \n",
       "8  1.01  0.37 -0.38  0.01  0.14   93.20      0  \n",
       "9 -0.39 -0.07  0.09  0.25  0.08    3.68      0  "
      ]
     },
     "execution_count": 38,
     "metadata": {},
     "output_type": "execute_result"
    }
   ],
   "source": [
    "# Посмотрим первые десять строк DataFrame:\n",
    "creditcard.head(10).round(2)"
   ]
  },
  {
   "cell_type": "code",
   "execution_count": 39,
   "id": "f952a937",
   "metadata": {},
   "outputs": [
    {
     "name": "stdout",
     "output_type": "stream",
     "text": [
      "<class 'pandas.core.frame.DataFrame'>\n",
      "RangeIndex: 284807 entries, 0 to 284806\n",
      "Data columns (total 30 columns):\n",
      " #   Column  Non-Null Count   Dtype  \n",
      "---  ------  --------------   -----  \n",
      " 0   Time    284807 non-null  float64\n",
      " 1   V1      284807 non-null  float64\n",
      " 2   V2      284807 non-null  float64\n",
      " 3   V3      284807 non-null  float64\n",
      " 4   V4      284807 non-null  float64\n",
      " 5   V5      284807 non-null  float64\n",
      " 6   V6      284807 non-null  float64\n",
      " 7   V7      284807 non-null  float64\n",
      " 8   V8      284807 non-null  float64\n",
      " 9   V9      284807 non-null  float64\n",
      " 10  V10     284807 non-null  float64\n",
      " 11  V11     284807 non-null  float64\n",
      " 12  V12     284807 non-null  float64\n",
      " 13  V13     284807 non-null  float64\n",
      " 14  V14     284807 non-null  float64\n",
      " 15  V15     284807 non-null  float64\n",
      " 16  V16     284807 non-null  float64\n",
      " 17  V17     284807 non-null  float64\n",
      " 18  V18     284807 non-null  float64\n",
      " 19  V19     284807 non-null  float64\n",
      " 20  V20     284807 non-null  float64\n",
      " 21  V21     284807 non-null  float64\n",
      " 22  V22     284807 non-null  float64\n",
      " 23  V23     284807 non-null  float64\n",
      " 24  V24     284807 non-null  float64\n",
      " 25  V25     284807 non-null  float64\n",
      " 26  V26     284807 non-null  float64\n",
      " 27  V27     284807 non-null  float64\n",
      " 28  V28     284807 non-null  float64\n",
      " 29  Amount  284807 non-null  float64\n",
      "dtypes: float64(30)\n",
      "memory usage: 65.2 MB\n"
     ]
    }
   ],
   "source": [
    "# Создадим DataFrame X из creditcard, и исключим из него столбец Class:\n",
    "X = creditcard[creditcard.columns.drop('Class')]\n",
    "\n",
    "# Посмотрим информацию об обновлённом DataFrame:\n",
    "X.info()"
   ]
  },
  {
   "cell_type": "code",
   "execution_count": 40,
   "id": "e49461ec",
   "metadata": {},
   "outputs": [
    {
     "name": "stdout",
     "output_type": "stream",
     "text": [
      "<class 'pandas.core.series.Series'>\n",
      "RangeIndex: 284807 entries, 0 to 284806\n",
      "Series name: Class\n",
      "Non-Null Count   Dtype\n",
      "--------------   -----\n",
      "284807 non-null  int64\n",
      "dtypes: int64(1)\n",
      "memory usage: 2.2 MB\n"
     ]
    }
   ],
   "source": [
    "# Создадим объект Series под названием y из столбца Class:\n",
    "y = pd.Series(creditcard['Class'])\n",
    "y.info()"
   ]
  },
  {
   "cell_type": "code",
   "execution_count": 41,
   "id": "9f61662f",
   "metadata": {},
   "outputs": [],
   "source": [
    "# Разобъём созданные объекты X и y на тренировочные и тестовые выборки,\n",
    "# где на долю тестовых выборок приходится по 30%:\n",
    "X_train, X_test, y_train, y_test = train_test_split(X, y, test_size = 0.3, random_state = 100, stratify = y)"
   ]
  },
  {
   "cell_type": "code",
   "execution_count": 42,
   "id": "5d719d58",
   "metadata": {},
   "outputs": [
    {
     "name": "stdout",
     "output_type": "stream",
     "text": [
      "Форма тренировочной выборки: (199364, 30) (199364,)\n",
      "Форма тестовой выборки: (85443, 30) (85443,)\n"
     ]
    }
   ],
   "source": [
    "# Посмотрим на формы новых наборов данных:\n",
    "print('Форма тренировочной выборки:', X_train.shape, y_train.shape)\n",
    "print('Форма тестовой выборки:', X_test.shape, y_test.shape)"
   ]
  },
  {
   "cell_type": "code",
   "execution_count": 43,
   "id": "20b5c60c",
   "metadata": {},
   "outputs": [],
   "source": [
    "# Для поиска по сетке параметров зададим параметры: \n",
    "parameters = [{'n_estimators': [10, 15], 'max_features': np.arange(3, 5), 'max_depth': np.arange(4, 7)}]"
   ]
  },
  {
   "cell_type": "code",
   "execution_count": 44,
   "id": "4561779e",
   "metadata": {},
   "outputs": [],
   "source": [
    "# Создадим классификатор clf со следующими аргументами:\n",
    "clf = GridSearchCV(estimator = RandomForestClassifier(random_state = 100),\n",
    "    param_grid = parameters, scoring = 'roc_auc', cv = 3)"
   ]
  },
  {
   "cell_type": "code",
   "execution_count": 45,
   "id": "283a5f9f",
   "metadata": {},
   "outputs": [
    {
     "data": {
      "text/plain": [
       "GridSearchCV(cv=3, estimator=RandomForestClassifier(random_state=100),\n",
       "             param_grid=[{'max_depth': array([4, 5, 6]),\n",
       "                          'max_features': array([3, 4]),\n",
       "                          'n_estimators': [10, 15]}],\n",
       "             scoring='roc_auc')"
      ]
     },
     "execution_count": 45,
     "metadata": {},
     "output_type": "execute_result"
    }
   ],
   "source": [
    "# Обучим нашу модель на тренировочных выборках:\n",
    "clf.fit(X_train, y_train)"
   ]
  },
  {
   "cell_type": "code",
   "execution_count": 46,
   "id": "8de6122e",
   "metadata": {},
   "outputs": [
    {
     "data": {
      "text/plain": [
       "{'max_depth': 6, 'max_features': 3, 'n_estimators': 15}"
      ]
     },
     "execution_count": 46,
     "metadata": {},
     "output_type": "execute_result"
    }
   ],
   "source": [
    "# Посмотрим налучшие параметры модели:\n",
    "clf.best_params_"
   ]
  },
  {
   "cell_type": "code",
   "execution_count": 47,
   "id": "d115133f",
   "metadata": {},
   "outputs": [
    {
     "data": {
      "text/plain": [
       "RandomForestClassifier(max_depth=6, max_features=3, n_estimators=15)"
      ]
     },
     "execution_count": 47,
     "metadata": {},
     "output_type": "execute_result"
    }
   ],
   "source": [
    "# Создадим и вновь обучим нашу модель на наилучших параметрах:\n",
    "clf = RandomForestClassifier(max_depth = 6, max_features = 3, n_estimators = 15)\n",
    "clf.fit(X_train, y_train)"
   ]
  },
  {
   "cell_type": "code",
   "execution_count": 48,
   "id": "352355cf",
   "metadata": {},
   "outputs": [
    {
     "data": {
      "text/plain": [
       "array([0.00080271, 0.0003267 , 0.0002506 , ..., 0.00027726, 0.00027726,\n",
       "       0.17621409])"
      ]
     },
     "execution_count": 48,
     "metadata": {},
     "output_type": "execute_result"
    }
   ],
   "source": [
    "# Предскажем вероятность принадлежности к классу 1 классифицируемых объектов,\n",
    "# и запишем в массив предсказаний на тестовых данных:\n",
    "y_pred_proba_test = clf.predict_proba(X_test)[:, 1]\n",
    "y_pred_proba_test"
   ]
  },
  {
   "cell_type": "code",
   "execution_count": 49,
   "id": "81924f60",
   "metadata": {},
   "outputs": [
    {
     "data": {
      "text/plain": [
       "array([0.0002506 , 0.00035337, 0.0002506 , ..., 0.00027726, 0.00027726,\n",
       "       0.0003267 ])"
      ]
     },
     "execution_count": 49,
     "metadata": {},
     "output_type": "execute_result"
    }
   ],
   "source": [
    "# Предскажем вероятность принадлежности к классу 1 классифицируемых объектов,\n",
    "# и запишем в массив предсказаний на тренировочных данных:\n",
    "y_pred_proba_train = clf.predict_proba(X_train)[:, 1]\n",
    "y_pred_proba_train"
   ]
  },
  {
   "cell_type": "code",
   "execution_count": 50,
   "id": "ff1e6861",
   "metadata": {},
   "outputs": [
    {
     "name": "stdout",
     "output_type": "stream",
     "text": [
      "ROC AUC на тестовых данных: 0.9569873554896122\n",
      "ROC AUC на тренировочных данных: 0.9737509289705603\n"
     ]
    }
   ],
   "source": [
    "# Для оценки качества классификационнной модели - Случайный лес при помощи метрики AUC,\n",
    "# импортируем соответствующую функцию:\n",
    "from sklearn.metrics import roc_auc_score\n",
    "\n",
    "# Вычислим площади под кривой ROC при помощи метрики AUC на двух типах данных:\n",
    "print('ROC AUC на тестовых данных:', roc_auc_score(y_test, y_pred_proba_test))\n",
    "print('ROC AUC на тренировочных данных:', roc_auc_score(y_train, y_pred_proba_train))"
   ]
  },
  {
   "cell_type": "markdown",
   "id": "85b55bfc",
   "metadata": {},
   "source": [
    "Из полученных величин можно сделать заключение, что площадь под кривой ROC на обоих типах данных определена достаточно хорошо и приблизительно одинакова. Таким образом, полученная модель может с вероятностью от 94% до 97% опредилить мошеннические транзакции по кредитной карте."
   ]
  },
  {
   "cell_type": "markdown",
   "id": "cdc38e70",
   "metadata": {},
   "source": [
    "-----\n",
    "\n",
    "END Части 1"
   ]
  }
 ],
 "metadata": {
  "kernelspec": {
   "display_name": "Python 3 (ipykernel)",
   "language": "python",
   "name": "python3"
  },
  "language_info": {
   "codemirror_mode": {
    "name": "ipython",
    "version": 3
   },
   "file_extension": ".py",
   "mimetype": "text/x-python",
   "name": "python",
   "nbconvert_exporter": "python",
   "pygments_lexer": "ipython3",
   "version": "3.9.12"
  }
 },
 "nbformat": 4,
 "nbformat_minor": 5
}
